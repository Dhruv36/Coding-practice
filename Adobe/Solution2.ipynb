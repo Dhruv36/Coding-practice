{
 "cells": [
  {
   "cell_type": "code",
   "execution_count": null,
   "metadata": {},
   "outputs": [],
   "source": [
    "class Solution:\n",
    "    def addStrings(self, num1: str, num2: str) -> str:\n",
    "        result = []\n",
    "        carry = 0\n",
    "        \n",
    "        idx1 = len(num1) - 1\n",
    "        idx2 = len(num2) - 1\n",
    "        \n",
    "        while idx1 >= 0 or idx2 >= 0:\n",
    "            val1 = ord(num1[idx1]) - ord('0') if idx1 >= 0 else 0\n",
    "            val2 = ord(num2[idx2]) - ord('0') if idx2 >= 0 else 0\n",
    "            \n",
    "            val = (val1 + val2 + carry) % 10\n",
    "            carry = (val1 + val2 + carry) // 10\n",
    "            \n",
    "            result.append(val)\n",
    "            idx1 -= 1\n",
    "            idx2 -= 1\n",
    "            \n",
    "        if carry:\n",
    "            result.append(carry)\n",
    "            \n",
    "        return ''.join(str(x) for x in result[::-1])"
   ]
  }
 ],
 "metadata": {
  "kernelspec": {
   "display_name": "Python 3",
   "language": "python",
   "name": "python3"
  },
  "language_info": {
   "codemirror_mode": {
    "name": "ipython",
    "version": 3
   },
   "file_extension": ".py",
   "mimetype": "text/x-python",
   "name": "python",
   "nbconvert_exporter": "python",
   "pygments_lexer": "ipython3",
   "version": "3.7.4"
  }
 },
 "nbformat": 4,
 "nbformat_minor": 4
}
